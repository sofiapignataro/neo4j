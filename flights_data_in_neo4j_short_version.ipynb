{
 "cells": [
  {
   "cell_type": "markdown",
   "metadata": {},
   "source": [
    "### Database creation and loading"
   ]
  },
  {
   "cell_type": "markdown",
   "metadata": {},
   "source": [
    "##### Initiate driver and connect to local database"
   ]
  },
  {
   "cell_type": "code",
   "execution_count": 1,
   "metadata": {},
   "outputs": [],
   "source": [
    "import neo4j\n",
    "from neo4j import GraphDatabase\n",
    "\n",
    "# Establishing connection with remote db\n",
    "URI = \"bolt://localhost:7687\"\n",
    "AUTH = (\"dbms_user\", \"dbms1234\")\n",
    "\n",
    "driver = GraphDatabase.driver(URI, auth=AUTH)\n",
    "driver.verify_connectivity()"
   ]
  },
  {
   "cell_type": "markdown",
   "metadata": {},
   "source": [
    "##### Create database named flights"
   ]
  },
  {
   "cell_type": "code",
   "execution_count": 2,
   "metadata": {},
   "outputs": [
    {
     "data": {
      "text/plain": [
       "EagerResult(records=[], summary=<neo4j._work.summary.ResultSummary object at 0x0000028F955EE650>, keys=[])"
      ]
     },
     "execution_count": 2,
     "metadata": {},
     "output_type": "execute_result"
    }
   ],
   "source": [
    "query = \"\"\"\n",
    "CREATE OR REPLACE DATABASE flights\n",
    "\"\"\"\n",
    "\n",
    "driver.execute_query(query)"
   ]
  },
  {
   "cell_type": "markdown",
   "metadata": {},
   "source": [
    "##### To make ingestion faster, create index on airport code for airport nodes (two or modes nodes cannot have same aiport code)"
   ]
  },
  {
   "cell_type": "code",
   "execution_count": 3,
   "metadata": {},
   "outputs": [
    {
     "data": {
      "text/plain": [
       "EagerResult(records=[], summary=<neo4j._work.summary.ResultSummary object at 0x0000028F955EDF90>, keys=[])"
      ]
     },
     "execution_count": 3,
     "metadata": {},
     "output_type": "execute_result"
    }
   ],
   "source": [
    "query = \"\"\"\n",
    "CREATE INDEX airport_code FOR (n:airport) ON (n.airportID)\n",
    "\"\"\"\n",
    "\n",
    "driver.execute_query(query,database_='flights')"
   ]
  },
  {
   "cell_type": "markdown",
   "metadata": {},
   "source": [
    "##### Load CSV file (flights_neo4j.csv) into database flights"
   ]
  },
  {
   "cell_type": "code",
   "execution_count": 4,
   "metadata": {},
   "outputs": [
    {
     "data": {
      "text/plain": [
       "EagerResult(records=[], summary=<neo4j._work.summary.ResultSummary object at 0x0000028F955FB3D0>, keys=[])"
      ]
     },
     "execution_count": 4,
     "metadata": {},
     "output_type": "execute_result"
    }
   ],
   "source": [
    "query = \"\"\"\n",
    "LOAD CSV WITH HEADERS FROM 'file:///flights_neo4j.csv' AS row  FIELDTERMINATOR ','\n",
    "MERGE (a:airport {airportID: row.Dest})\n",
    "MERGE (b:airport {airportID: row.Origin})\n",
    "WITH a,b,row\n",
    "CREATE (a)-[f:CONNECTS_TO]->(b)\n",
    "SET f.CRSDepTime = toInteger(row.CRSDepTime), \n",
    "f.Marketing_Airline_Network = row.Marketing_Airline_Network,\n",
    "f.CRSElapsedTime = toInteger(row.CRSElapsedTime)\n",
    "\"\"\"\n",
    "\n",
    "driver.execute_query(query,database_='flights')"
   ]
  },
  {
   "cell_type": "markdown",
   "metadata": {},
   "source": [
    "### Run Dijkstra Shortest Path Algorithm"
   ]
  },
  {
   "cell_type": "markdown",
   "metadata": {},
   "source": [
    "##### Create a graph projection"
   ]
  },
  {
   "cell_type": "code",
   "execution_count": 12,
   "metadata": {},
   "outputs": [
    {
     "data": {
      "text/html": [
       "<div>\n",
       "<style scoped>\n",
       "    .dataframe tbody tr th:only-of-type {\n",
       "        vertical-align: middle;\n",
       "    }\n",
       "\n",
       "    .dataframe tbody tr th {\n",
       "        vertical-align: top;\n",
       "    }\n",
       "\n",
       "    .dataframe thead th {\n",
       "        text-align: right;\n",
       "    }\n",
       "</style>\n",
       "<table border=\"1\" class=\"dataframe\">\n",
       "  <thead>\n",
       "    <tr style=\"text-align: right;\">\n",
       "      <th></th>\n",
       "      <th>nodeProjection</th>\n",
       "      <th>relationshipProjection</th>\n",
       "      <th>graphName</th>\n",
       "      <th>nodeCount</th>\n",
       "      <th>relationshipCount</th>\n",
       "      <th>projectMillis</th>\n",
       "    </tr>\n",
       "  </thead>\n",
       "  <tbody>\n",
       "    <tr>\n",
       "      <th>0</th>\n",
       "      <td>{'airport': {'label': 'airport', 'properties':...</td>\n",
       "      <td>{'CONNECTS_TO': {'aggregation': 'DEFAULT', 'or...</td>\n",
       "      <td>myGraph</td>\n",
       "      <td>330</td>\n",
       "      <td>20019</td>\n",
       "      <td>37</td>\n",
       "    </tr>\n",
       "  </tbody>\n",
       "</table>\n",
       "</div>"
      ],
      "text/plain": [
       "                                      nodeProjection  \\\n",
       "0  {'airport': {'label': 'airport', 'properties':...   \n",
       "\n",
       "                              relationshipProjection graphName  nodeCount  \\\n",
       "0  {'CONNECTS_TO': {'aggregation': 'DEFAULT', 'or...   myGraph        330   \n",
       "\n",
       "   relationshipCount  projectMillis  \n",
       "0              20019             37  "
      ]
     },
     "execution_count": 12,
     "metadata": {},
     "output_type": "execute_result"
    }
   ],
   "source": [
    "query = \"\"\"\n",
    "\n",
    "CALL gds.graph.project(\n",
    "    'myGraph',\n",
    "    'airport',\n",
    "    'CONNECTS_TO',\n",
    "    {\n",
    "        relationshipProperties: 'CRSElapsedTime'\n",
    "    }\n",
    ")\n",
    "\n",
    "\n",
    "\"\"\"\n",
    "\n",
    "driver.execute_query(query, result_transformer_=neo4j.Result.to_df, database_='flights')"
   ]
  },
  {
   "cell_type": "markdown",
   "metadata": {},
   "source": [
    "##### Run algorithm to find the shortest path between Trenton (New Jersey) and Anchorage (Alaska) airports, weighted on flight time duration"
   ]
  },
  {
   "cell_type": "code",
   "execution_count": 13,
   "metadata": {},
   "outputs": [
    {
     "data": {
      "text/html": [
       "<div>\n",
       "<style scoped>\n",
       "    .dataframe tbody tr th:only-of-type {\n",
       "        vertical-align: middle;\n",
       "    }\n",
       "\n",
       "    .dataframe tbody tr th {\n",
       "        vertical-align: top;\n",
       "    }\n",
       "\n",
       "    .dataframe thead th {\n",
       "        text-align: right;\n",
       "    }\n",
       "</style>\n",
       "<table border=\"1\" class=\"dataframe\">\n",
       "  <thead>\n",
       "    <tr style=\"text-align: right;\">\n",
       "      <th></th>\n",
       "      <th>index</th>\n",
       "      <th>sourceNodeName</th>\n",
       "      <th>targetNodeName</th>\n",
       "      <th>totalCost</th>\n",
       "      <th>nodeNames</th>\n",
       "      <th>costs</th>\n",
       "      <th>path</th>\n",
       "    </tr>\n",
       "  </thead>\n",
       "  <tbody>\n",
       "    <tr>\n",
       "      <th>0</th>\n",
       "      <td>0</td>\n",
       "      <td>TTN</td>\n",
       "      <td>ANC</td>\n",
       "      <td>548.0</td>\n",
       "      <td>[TTN, ATL, ANC]</td>\n",
       "      <td>[0.0, 132.0, 548.0]</td>\n",
       "      <td>[(airportID), (airportID), (airportID)]</td>\n",
       "    </tr>\n",
       "  </tbody>\n",
       "</table>\n",
       "</div>"
      ],
      "text/plain": [
       "   index sourceNodeName targetNodeName  totalCost        nodeNames  \\\n",
       "0      0            TTN            ANC      548.0  [TTN, ATL, ANC]   \n",
       "\n",
       "                 costs                                     path  \n",
       "0  [0.0, 132.0, 548.0]  [(airportID), (airportID), (airportID)]  "
      ]
     },
     "execution_count": 13,
     "metadata": {},
     "output_type": "execute_result"
    }
   ],
   "source": [
    "query = \"\"\"\n",
    "\n",
    "MATCH (start:airport{airportID:\"TTN\"}), (end:airport{airportID:\"ANC\"})\n",
    "CALL gds.shortestPath.dijkstra.stream('myGraph', {\n",
    "    sourceNode: start,\n",
    "    targetNode: end,\n",
    "    relationshipWeightProperty: 'CRSElapsedTime'\n",
    "})\n",
    "YIELD index, sourceNode, targetNode, totalCost, nodeIds, costs, path\n",
    "RETURN\n",
    "    index,\n",
    "    gds.util.asNode(sourceNode).airportID AS sourceNodeName,\n",
    "    gds.util.asNode(targetNode).airportID AS targetNodeName,\n",
    "    totalCost,\n",
    "    [nodeId IN nodeIds | gds.util.asNode(nodeId).airportID] AS nodeNames,\n",
    "    costs,\n",
    "    nodes(path) as path\n",
    "ORDER BY index\n",
    "\n",
    "\n",
    "\"\"\"\n",
    "\n",
    "driver.execute_query(query,  result_transformer_=neo4j.Result.to_df, database_='flights')\n"
   ]
  }
 ],
 "metadata": {
  "kernelspec": {
   "display_name": "base",
   "language": "python",
   "name": "python3"
  },
  "language_info": {
   "codemirror_mode": {
    "name": "ipython",
    "version": 3
   },
   "file_extension": ".py",
   "mimetype": "text/x-python",
   "name": "python",
   "nbconvert_exporter": "python",
   "pygments_lexer": "ipython3",
   "version": "3.11.3"
  }
 },
 "nbformat": 4,
 "nbformat_minor": 2
}
